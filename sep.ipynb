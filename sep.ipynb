{
 "cells": [
  {
   "cell_type": "code",
   "execution_count": 210,
   "metadata": {},
   "outputs": [],
   "source": [
    "from bs4 import BeautifulSoup as bs\n",
    "import requests\n",
    "import pandas as pd\n",
    "import re\n",
    "import csv\n",
    "import random"
   ]
  },
  {
   "cell_type": "code",
   "execution_count": 211,
   "metadata": {},
   "outputs": [
    {
     "name": "stdout",
     "output_type": "stream",
     "text": [
      "<Response [200]>\n"
     ]
    }
   ],
   "source": [
    "link=\"https://www.imdb.com/search/title/?year=2021&title_type=feature&\"\n",
    "page=requests.get(link)\n",
    "print(page)"
   ]
  },
  {
   "cell_type": "code",
   "execution_count": 213,
   "metadata": {},
   "outputs": [
    {
     "name": "stdout",
     "output_type": "stream",
     "text": [
      "['155 min', '157 min', '163 min', '105 min', '108 min', '116 min', '152 min', '107 min', '127 min', '97 min', '115 min', '99 min', '88 min', '118 min', '98 min', '134 min', '108 min', '120 min', '106 min', '132 min', '90 min', '157 min', '124 min', '132 min', '164 min', '113 min', '108 min', '102 min', '112 min', '106 min', '134 min', '98 min', '111 min', '85 min', '125 min', '94 min', '130 min', '111 min', '107 min', '93 min', '148 min', '130 min', '78 min', '107 min', '99 min', '86 min', '91 min', '143 min']\n"
     ]
    }
   ],
   "source": [
    "soup=bs(page.content,'html.parser')\n",
    "runtime=soup.find_all('span',class_='runtime')\n",
    "\n",
    "\n",
    "runtime_t=[]\n",
    "for i in range(0,len(runtime)):\n",
    "    runtime_t.append(runtime[i].get_text())\n",
    "    runtime_t[:]=[runtime.lstrip('\\n') for runtime in runtime_t]\n",
    "    runtime_t[:]=[runtime.rstrip('\\n') for runtime in runtime_t]\n",
    "print(runtime_t)"
   ]
  },
  {
   "cell_type": "code",
   "execution_count": 214,
   "metadata": {},
   "outputs": [
    {
     "name": "stdout",
     "output_type": "stream",
     "text": [
      "48\n"
     ]
    }
   ],
   "source": [
    "print(len(runtime_t))"
   ]
  },
  {
   "cell_type": "code",
   "execution_count": 215,
   "metadata": {},
   "outputs": [
    {
     "name": "stdout",
     "output_type": "stream",
     "text": [
      "['\\n\\n8.2\\n', '\\n\\n6.9\\n', '\\n\\n7.5\\n', '\\n\\n5.7\\n', '\\n\\n7.5\\n', '\\n\\n7.6\\n', '\\n\\n7.7\\n', '\\n\\n5.6\\n', '\\n\\n6.4\\n', '\\n\\n6.3\\n', '\\n\\n7.2\\n', '\\n\\n6.4\\n', '\\n\\n5.2\\n', '\\n\\n6.9\\n', '\\n\\n4.8\\n', '\\n\\n6.8\\n', '\\n\\n5.8\\n', '\\n\\n6.4\\n', '\\n\\n6.4\\n', '\\n\\n7.9\\n', '\\n\\n6.3\\n', '\\n\\n7.8\\n', '\\n\\n7.3\\n', '\\n\\n9.0\\n', '\\n\\n6.9\\n', '\\n\\n6.8\\n', '\\n\\n8.1\\n', '\\n\\n7.2\\n', '\\n\\n7.4\\n', '\\n\\n5.2\\n', '\\n\\n6.3\\n', '\\n\\n5.5\\n', '\\n\\n1.4\\n', '\\n\\n6.6\\n', '\\n\\n7.2\\n', '\\n\\n5.4\\n', '\\n\\n5.8\\n', '\\n\\n6.4\\n', '\\n\\n6.2\\n', '\\n\\n6.2\\n', '\\n\\n7.2\\n', '\\n\\n1.8\\n', '\\n\\n5.9\\n', '\\n\\n5.2\\n']\n"
     ]
    }
   ],
   "source": [
    "soup=bs(page.content,'html.parser')\n",
    "rate=soup.find_all('div',class_='inline-block ratings-imdb-rating')\n",
    "\n",
    "\n",
    "rating=[]\n",
    "for i in range(0,len(rate)):\n",
    "    rating.append(rate[i].get_text())\n",
    "    \n",
    "print(rating)"
   ]
  },
  {
   "cell_type": "code",
   "execution_count": 216,
   "metadata": {},
   "outputs": [
    {
     "name": "stdout",
     "output_type": "stream",
     "text": [
      "['8.2', '6.9', '7.5', '5.7', '7.5', '7.6', '7.7', '5.6', '6.4', '6.3', '7.2', '6.4', '5.2', '6.9', '4.8', '6.8', '5.8', '6.4', '6.4', '7.9', '6.3', '7.8', '7.3', '9.0', '6.9', '6.8', '8.1', '7.2', '7.4', '5.2', '6.3', '5.5', '1.4', '6.6', '7.2', '5.4', '5.8', '6.4', '6.2', '6.2', '7.2', '1.8', '5.9', '5.2']\n"
     ]
    }
   ],
   "source": [
    "#It will remove the right and left side \\n\n",
    "\n",
    "rating[:]=[rate.lstrip('\\n') for rate in rating]\n",
    "rating[:]=[rate.rstrip('\\n') for rate in rating]\n",
    "\n",
    "print(rating)"
   ]
  },
  {
   "cell_type": "code",
   "execution_count": 217,
   "metadata": {},
   "outputs": [
    {
     "name": "stdout",
     "output_type": "stream",
     "text": [
      "['Action, Adventure, Drama            ', 'Action, Adventure, Drama            ', 'Action, Adventure, Thriller            ', 'Horror, Thriller            ', 'Comedy, Drama, Romance            ', 'Drama, Horror, Mystery            ', 'Action, Drama, History            ', 'Action, Crime, Drama            ', 'Action, Comedy, Crime            ', 'Action, Adventure, Sci-Fi            ', 'Action, Adventure, Comedy            ', 'Drama, Horror, Mystery            ', 'Drama, Horror, Mystery            ', 'Action, Comedy, Crime            ', 'Action, Adventure, Sci-Fi            ', 'Drama            ', 'Action, Adventure, Sci-Fi            ', 'Drama, Horror, Mystery            ', 'Crime, Drama            ', 'Drama, Horror, Mystery            ', 'Action, Adventure, Fantasy            ', 'Crime, Drama, Thriller            ', 'Crime, Drama, Thriller            ', 'Comedy, Fantasy            ', 'Action, Adventure, Comedy            ', 'Biography, Crime, Drama            ', 'Action, Comedy, Horror            ', 'Drama, Horror, Sci-Fi            ', 'Horror            ', 'Drama            ', 'Animation, Adventure, Comedy            ', 'Adventure, Comedy, Crime            ', 'Horror, Mystery, Thriller            ', 'Crime, Horror, Mystery            ', 'Drama, Horror, Mystery            ', 'Crime, Drama, History            ', 'Action, Thriller            ', 'Adventure, Drama, Fantasy            ', 'Biography, Drama, Romance            ', 'Action, Horror, Mystery            ', 'Animation, Adventure, Comedy            ', 'Action, Crime, Horror            ', 'Drama, Western            ', 'Animation, Action, Adventure            ', 'Action, Crime, Thriller            ', 'Thriller, Western            ', 'Horror, Mystery, Thriller            ', 'Action, Adventure, Sci-Fi            ', 'Horror, Thriller            ', 'Action, Adventure, Crime            ']\n"
     ]
    }
   ],
   "source": [
    "meta=soup.find_all('span',class_='genre')\n",
    "soup=bs(page.content,'html.parser')\n",
    "\n",
    "\n",
    "metascore=[]\n",
    "for i in range(0,len(meta)):\n",
    "    metascore.append(meta[i].get_text())\n",
    "    metascore[:]=[meta.lstrip('\\n') for meta in metascore]\n",
    "    metascore[:]=[meta.rstrip('\\n') for meta in metascore]\n",
    "    \n",
    "print(metascore)\n"
   ]
  },
  {
   "cell_type": "code",
   "execution_count": 218,
   "metadata": {},
   "outputs": [
    {
     "name": "stdout",
     "output_type": "stream",
     "text": [
      "['Action, , Drama            ', 'Action, , Drama            ', 'Action, , Thriller            ', 'Horror, Thriller            ', 'Comedy, Drama, Romance            ', 'Drama, Horror, Mystery            ', 'Action, Drama, History            ', 'Action, Crime, Drama            ', 'Action, Comedy, Crime            ', 'Action, , Sci-Fi            ', 'Action, , Comedy            ', 'Drama, Horror, Mystery            ', 'Drama, Horror, Mystery            ', 'Action, Comedy, Crime            ', 'Action, , Sci-Fi            ', 'Drama            ', 'Action, , Sci-Fi            ', 'Drama, Horror, Mystery            ', 'Crime, Drama            ', 'Drama, Horror, Mystery            ', 'Action, , Fantasy            ', 'Crime, Drama, Thriller            ', 'Crime, Drama, Thriller            ', 'Comedy, Fantasy            ', 'Action, , Comedy            ', 'Biography, Crime, Drama            ', 'Action, Comedy, Horror            ', 'Drama, Horror, Sci-Fi            ', 'Horror            ', 'Drama            ', 'Animation, , Comedy            ', ', Comedy, Crime            ', 'Horror, Mystery, Thriller            ', 'Crime, Horror, Mystery            ', 'Drama, Horror, Mystery            ', 'Crime, Drama, History            ', 'Action, Thriller            ', ', Drama, Fantasy            ', 'Biography, Drama, Romance            ', 'Action, Horror, Mystery            ', 'Animation, , Comedy            ', 'Action, Crime, Horror            ', 'Drama, Western            ', 'Animation, Action,             ', 'Action, Crime, Thriller            ', 'Thriller, Western            ', 'Horror, Mystery, Thriller            ', 'Action, , Sci-Fi            ', 'Horror, Thriller            ', 'Action, , Crime            ']\n"
     ]
    }
   ],
   "source": [
    "# metascore[:]=[meta.replace('\\n','') for meta in metascore]   # it will remove the /n \n",
    "metascore[:]=[meta.replace('Adventure','') for meta in metascore] # it will remove the Adventure word \n",
    "# print(metascore)\n",
    "\n",
    "print(metascore)\n"
   ]
  },
  {
   "cell_type": "code",
   "execution_count": 219,
   "metadata": {},
   "outputs": [
    {
     "name": "stdout",
     "output_type": "stream",
     "text": [
      "[', , Drama            ', ', , Drama            ', ', , Thriller            ', 'Horror, Thriller            ', 'Comedy, Drama, Romance            ', 'Drama, Horror, Mystery            ', ', Drama, History            ', ', Crime, Drama            ', ', Comedy, Crime            ', ', , Sci-Fi            ', ', , Comedy            ', 'Drama, Horror, Mystery            ', 'Drama, Horror, Mystery            ', ', Comedy, Crime            ', ', , Sci-Fi            ', 'Drama            ', ', , Sci-Fi            ', 'Drama, Horror, Mystery            ', 'Crime, Drama            ', 'Drama, Horror, Mystery            ', ', , Fantasy            ', 'Crime, Drama, Thriller            ', 'Crime, Drama, Thriller            ', 'Comedy, Fantasy            ', ', , Comedy            ', 'Biography, Crime, Drama            ', ', Comedy, Horror            ', 'Drama, Horror, Sci-Fi            ', 'Horror            ', 'Drama            ', 'Animation, , Comedy            ', ', Comedy, Crime            ', 'Horror, Mystery, Thriller            ', 'Crime, Horror, Mystery            ', 'Drama, Horror, Mystery            ', 'Crime, Drama, History            ', ', Thriller            ', ', Drama, Fantasy            ', 'Biography, Drama, Romance            ', ', Horror, Mystery            ', 'Animation, , Comedy            ', ', Crime, Horror            ', 'Drama, Western            ', 'Animation, ,             ', ', Crime, Thriller            ', 'Thriller, Western            ', 'Horror, Mystery, Thriller            ', ', , Sci-Fi            ', 'Horror, Thriller            ', ', , Crime            ']\n"
     ]
    }
   ],
   "source": [
    "#Remove the action word \n",
    "\n",
    "metascore[:]=[meta.replace('Action','') for meta in metascore] \n",
    "print(metascore)"
   ]
  },
  {
   "cell_type": "code",
   "execution_count": 220,
   "metadata": {},
   "outputs": [
    {
     "name": "stdout",
     "output_type": "stream",
     "text": [
      "['  Drama            ', '  Drama            ', '  Thriller            ', 'Horror Thriller            ', 'Comedy Drama Romance            ', 'Drama Horror Mystery            ', ' Drama History            ', ' Crime Drama            ', ' Comedy Crime            ', '  Sci-Fi            ', '  Comedy            ', 'Drama Horror Mystery            ', 'Drama Horror Mystery            ', ' Comedy Crime            ', '  Sci-Fi            ', 'Drama            ', '  Sci-Fi            ', 'Drama Horror Mystery            ', 'Crime Drama            ', 'Drama Horror Mystery            ', '  Fantasy            ', 'Crime Drama Thriller            ', 'Crime Drama Thriller            ', 'Comedy Fantasy            ', '  Comedy            ', 'Biography Crime Drama            ', ' Comedy Horror            ', 'Drama Horror Sci-Fi            ', 'Horror            ', 'Drama            ', 'Animation  Comedy            ', ' Comedy Crime            ', 'Horror Mystery Thriller            ', 'Crime Horror Mystery            ', 'Drama Horror Mystery            ', 'Crime Drama History            ', ' Thriller            ', ' Drama Fantasy            ', 'Biography Drama Romance            ', ' Horror Mystery            ', 'Animation  Comedy            ', ' Crime Horror            ', 'Drama Western            ', 'Animation              ', ' Crime Thriller            ', 'Thriller Western            ', 'Horror Mystery Thriller            ', '  Sci-Fi            ', 'Horror Thriller            ', '  Crime            ']\n"
     ]
    }
   ],
   "source": [
    "#Remove the single comma \n",
    "\n",
    "metascore[:]=[meta.replace(',', '') for meta in metascore] \n",
    "print(metascore)"
   ]
  },
  {
   "cell_type": "code",
   "execution_count": 221,
   "metadata": {},
   "outputs": [
    {
     "name": "stdout",
     "output_type": "stream",
     "text": [
      "['Drama', 'Drama', 'Thriller', 'HorrorThriller', 'ComedyDramaRomance', 'DramaHorrorMystery', 'DramaHistory', 'CrimeDrama', 'ComedyCrime', 'Sci-Fi', 'Comedy', 'DramaHorrorMystery', 'DramaHorrorMystery', 'ComedyCrime', 'Sci-Fi', 'Drama', 'Sci-Fi', 'DramaHorrorMystery', 'CrimeDrama', 'DramaHorrorMystery', 'Fantasy', 'CrimeDramaThriller', 'CrimeDramaThriller', 'ComedyFantasy', 'Comedy', 'BiographyCrimeDrama', 'ComedyHorror', 'DramaHorrorSci-Fi', 'Horror', 'Drama', 'AnimationComedy', 'ComedyCrime', 'HorrorMysteryThriller', 'CrimeHorrorMystery', 'DramaHorrorMystery', 'CrimeDramaHistory', 'Thriller', 'DramaFantasy', 'BiographyDramaRomance', 'HorrorMystery', 'AnimationComedy', 'CrimeHorror', 'DramaWestern', 'Animation', 'CrimeThriller', 'ThrillerWestern', 'HorrorMysteryThriller', 'Sci-Fi', 'HorrorThriller', 'Crime']\n"
     ]
    }
   ],
   "source": [
    "# Remove the space between the word \n",
    "metascore[:]=[meta.replace(' ', '') for meta in metascore] \n",
    "print(metascore)"
   ]
  },
  {
   "cell_type": "code",
   "execution_count": 222,
   "metadata": {},
   "outputs": [
    {
     "name": "stdout",
     "output_type": "stream",
     "text": [
      "None\n"
     ]
    }
   ],
   "source": [
    "#It will add new item in list \n",
    "a=metascore.insert( 3, 2009)\n",
    "print(a)"
   ]
  },
  {
   "cell_type": "code",
   "execution_count": 223,
   "metadata": {},
   "outputs": [
    {
     "name": "stdout",
     "output_type": "stream",
     "text": [
      "['Drama', 'Drama', 'Thriller', 2009, 'HorrorThriller', 'ComedyDramaRomance', 'DramaHorrorMystery', 'DramaHistory', 'CrimeDrama', 'ComedyCrime', 'Sci-Fi', 'Comedy', 'DramaHorrorMystery', 'DramaHorrorMystery', 'ComedyCrime', 'Sci-Fi', 'Drama', 'Sci-Fi', 'DramaHorrorMystery', 'CrimeDrama', 'DramaHorrorMystery', 'Fantasy', 'CrimeDramaThriller', 'CrimeDramaThriller', 'ComedyFantasy', 'Comedy', 'BiographyCrimeDrama', 'ComedyHorror', 'DramaHorrorSci-Fi', 'Horror', 'Drama', 'AnimationComedy', 'ComedyCrime', 'HorrorMysteryThriller', 'CrimeHorrorMystery', 'DramaHorrorMystery', 'CrimeDramaHistory', 'Thriller', 'DramaFantasy', 'BiographyDramaRomance', 'HorrorMystery', 'AnimationComedy', 'CrimeHorror', 'DramaWestern', 'Animation', 'CrimeThriller', 'ThrillerWestern', 'HorrorMysteryThriller', 'Sci-Fi', 'HorrorThriller', 'Crime']\n"
     ]
    }
   ],
   "source": [
    "print(metascore)"
   ]
  },
  {
   "cell_type": "code",
   "execution_count": 224,
   "metadata": {},
   "outputs": [
    {
     "name": "stdout",
     "output_type": "stream",
     "text": [
      "None\n"
     ]
    }
   ],
   "source": [
    "b=metascore.insert( 6, 2008)\n",
    "print(b)"
   ]
  },
  {
   "cell_type": "code",
   "execution_count": 225,
   "metadata": {},
   "outputs": [
    {
     "name": "stdout",
     "output_type": "stream",
     "text": [
      "['Drama', 'Drama', 'Thriller', 2009, 'HorrorThriller', 'ComedyDramaRomance', 2008, 'DramaHorrorMystery', 'DramaHistory', 'CrimeDrama', 'ComedyCrime', 'Sci-Fi', 'Comedy', 'DramaHorrorMystery', 'DramaHorrorMystery', 'ComedyCrime', 'Sci-Fi', 'Drama', 'Sci-Fi', 'DramaHorrorMystery', 'CrimeDrama', 'DramaHorrorMystery', 'Fantasy', 'CrimeDramaThriller', 'CrimeDramaThriller', 'ComedyFantasy', 'Comedy', 'BiographyCrimeDrama', 'ComedyHorror', 'DramaHorrorSci-Fi', 'Horror', 'Drama', 'AnimationComedy', 'ComedyCrime', 'HorrorMysteryThriller', 'CrimeHorrorMystery', 'DramaHorrorMystery', 'CrimeDramaHistory', 'Thriller', 'DramaFantasy', 'BiographyDramaRomance', 'HorrorMystery', 'AnimationComedy', 'CrimeHorror', 'DramaWestern', 'Animation', 'CrimeThriller', 'ThrillerWestern', 'HorrorMysteryThriller', 'Sci-Fi', 'HorrorThriller', 'Crime']\n"
     ]
    }
   ],
   "source": [
    "print(metascore)"
   ]
  },
  {
   "cell_type": "code",
   "execution_count": 226,
   "metadata": {},
   "outputs": [
    {
     "name": "stdout",
     "output_type": "stream",
     "text": [
      "None\n"
     ]
    }
   ],
   "source": [
    "c=metascore.insert( 10, 2010)\n",
    "print(c)"
   ]
  },
  {
   "cell_type": "code",
   "execution_count": 227,
   "metadata": {},
   "outputs": [
    {
     "name": "stdout",
     "output_type": "stream",
     "text": [
      "['Drama', 'Drama', 'Thriller', 2009, 'HorrorThriller', 'ComedyDramaRomance', 2008, 'DramaHorrorMystery', 'DramaHistory', 'CrimeDrama', 2010, 'ComedyCrime', 'Sci-Fi', 'Comedy', 'DramaHorrorMystery', 'DramaHorrorMystery', 'ComedyCrime', 'Sci-Fi', 'Drama', 'Sci-Fi', 'DramaHorrorMystery', 'CrimeDrama', 'DramaHorrorMystery', 'Fantasy', 'CrimeDramaThriller', 'CrimeDramaThriller', 'ComedyFantasy', 'Comedy', 'BiographyCrimeDrama', 'ComedyHorror', 'DramaHorrorSci-Fi', 'Horror', 'Drama', 'AnimationComedy', 'ComedyCrime', 'HorrorMysteryThriller', 'CrimeHorrorMystery', 'DramaHorrorMystery', 'CrimeDramaHistory', 'Thriller', 'DramaFantasy', 'BiographyDramaRomance', 'HorrorMystery', 'AnimationComedy', 'CrimeHorror', 'DramaWestern', 'Animation', 'CrimeThriller', 'ThrillerWestern', 'HorrorMysteryThriller', 'Sci-Fi', 'HorrorThriller', 'Crime']\n"
     ]
    }
   ],
   "source": [
    "print(metascore)"
   ]
  },
  {
   "cell_type": "code",
   "execution_count": 228,
   "metadata": {},
   "outputs": [
    {
     "name": "stdout",
     "output_type": "stream",
     "text": [
      "None\n"
     ]
    }
   ],
   "source": [
    "d=metascore.insert( 12, 2011)\n",
    "print(d)"
   ]
  },
  {
   "cell_type": "code",
   "execution_count": 229,
   "metadata": {},
   "outputs": [
    {
     "name": "stdout",
     "output_type": "stream",
     "text": [
      "['Drama', 'Drama', 'Thriller', 2009, 'HorrorThriller', 'ComedyDramaRomance', 2008, 'DramaHorrorMystery', 'DramaHistory', 'CrimeDrama', 2010, 'ComedyCrime', 2011, 'Sci-Fi', 'Comedy', 'DramaHorrorMystery', 'DramaHorrorMystery', 'ComedyCrime', 'Sci-Fi', 'Drama', 'Sci-Fi', 'DramaHorrorMystery', 'CrimeDrama', 'DramaHorrorMystery', 'Fantasy', 'CrimeDramaThriller', 'CrimeDramaThriller', 'ComedyFantasy', 'Comedy', 'BiographyCrimeDrama', 'ComedyHorror', 'DramaHorrorSci-Fi', 'Horror', 'Drama', 'AnimationComedy', 'ComedyCrime', 'HorrorMysteryThriller', 'CrimeHorrorMystery', 'DramaHorrorMystery', 'CrimeDramaHistory', 'Thriller', 'DramaFantasy', 'BiographyDramaRomance', 'HorrorMystery', 'AnimationComedy', 'CrimeHorror', 'DramaWestern', 'Animation', 'CrimeThriller', 'ThrillerWestern', 'HorrorMysteryThriller', 'Sci-Fi', 'HorrorThriller', 'Crime']\n"
     ]
    }
   ],
   "source": [
    "print(metascore)"
   ]
  },
  {
   "cell_type": "code",
   "execution_count": 230,
   "metadata": {},
   "outputs": [
    {
     "name": "stdout",
     "output_type": "stream",
     "text": [
      "None\n"
     ]
    }
   ],
   "source": [
    "e=metascore.insert( 14, 2000)\n",
    "print(e)"
   ]
  },
  {
   "cell_type": "code",
   "execution_count": 231,
   "metadata": {},
   "outputs": [
    {
     "name": "stdout",
     "output_type": "stream",
     "text": [
      "['Drama', 'Drama', 'Thriller', 2009, 'HorrorThriller', 'ComedyDramaRomance', 2008, 'DramaHorrorMystery', 'DramaHistory', 'CrimeDrama', 2010, 'ComedyCrime', 2011, 'Sci-Fi', 2000, 'Comedy', 'DramaHorrorMystery', 'DramaHorrorMystery', 'ComedyCrime', 'Sci-Fi', 'Drama', 'Sci-Fi', 'DramaHorrorMystery', 'CrimeDrama', 'DramaHorrorMystery', 'Fantasy', 'CrimeDramaThriller', 'CrimeDramaThriller', 'ComedyFantasy', 'Comedy', 'BiographyCrimeDrama', 'ComedyHorror', 'DramaHorrorSci-Fi', 'Horror', 'Drama', 'AnimationComedy', 'ComedyCrime', 'HorrorMysteryThriller', 'CrimeHorrorMystery', 'DramaHorrorMystery', 'CrimeDramaHistory', 'Thriller', 'DramaFantasy', 'BiographyDramaRomance', 'HorrorMystery', 'AnimationComedy', 'CrimeHorror', 'DramaWestern', 'Animation', 'CrimeThriller', 'ThrillerWestern', 'HorrorMysteryThriller', 'Sci-Fi', 'HorrorThriller', 'Crime']\n"
     ]
    }
   ],
   "source": [
    "print(metascore)"
   ]
  },
  {
   "cell_type": "code",
   "execution_count": 233,
   "metadata": {},
   "outputs": [],
   "source": [
    "a={'Runtime':runtime_t,'Rating':rating,'Metascore':metascore}\n",
    "df = pd.DataFrame.from_dict(a, orient='index')\n",
    "#df = pd.DataFrame({'Runtime':runtime_t,'Rating':rating,'Metascore':metascore})\n",
    "df = df.transpose() \n",
    "df.to_csv('products.csv', index=False, encoding='utf-8')"
   ]
  },
  {
   "cell_type": "code",
   "execution_count": 235,
   "metadata": {},
   "outputs": [
    {
     "data": {
      "text/html": [
       "<div>\n",
       "<style scoped>\n",
       "    .dataframe tbody tr th:only-of-type {\n",
       "        vertical-align: middle;\n",
       "    }\n",
       "\n",
       "    .dataframe tbody tr th {\n",
       "        vertical-align: top;\n",
       "    }\n",
       "\n",
       "    .dataframe thead th {\n",
       "        text-align: right;\n",
       "    }\n",
       "</style>\n",
       "<table border=\"1\" class=\"dataframe\">\n",
       "  <thead>\n",
       "    <tr style=\"text-align: right;\">\n",
       "      <th></th>\n",
       "      <th>Runtime</th>\n",
       "      <th>Rating</th>\n",
       "      <th>Metascore</th>\n",
       "    </tr>\n",
       "  </thead>\n",
       "  <tbody>\n",
       "    <tr>\n",
       "      <th>0</th>\n",
       "      <td>155 min</td>\n",
       "      <td>8.2</td>\n",
       "      <td>Drama</td>\n",
       "    </tr>\n",
       "    <tr>\n",
       "      <th>1</th>\n",
       "      <td>157 min</td>\n",
       "      <td>6.9</td>\n",
       "      <td>Drama</td>\n",
       "    </tr>\n",
       "    <tr>\n",
       "      <th>2</th>\n",
       "      <td>163 min</td>\n",
       "      <td>7.5</td>\n",
       "      <td>Thriller</td>\n",
       "    </tr>\n",
       "    <tr>\n",
       "      <th>3</th>\n",
       "      <td>105 min</td>\n",
       "      <td>5.7</td>\n",
       "      <td>2009</td>\n",
       "    </tr>\n",
       "    <tr>\n",
       "      <th>4</th>\n",
       "      <td>108 min</td>\n",
       "      <td>7.5</td>\n",
       "      <td>HorrorThriller</td>\n",
       "    </tr>\n",
       "    <tr>\n",
       "      <th>5</th>\n",
       "      <td>116 min</td>\n",
       "      <td>7.6</td>\n",
       "      <td>ComedyDramaRomance</td>\n",
       "    </tr>\n",
       "    <tr>\n",
       "      <th>6</th>\n",
       "      <td>152 min</td>\n",
       "      <td>7.7</td>\n",
       "      <td>2008</td>\n",
       "    </tr>\n",
       "    <tr>\n",
       "      <th>7</th>\n",
       "      <td>107 min</td>\n",
       "      <td>5.6</td>\n",
       "      <td>DramaHorrorMystery</td>\n",
       "    </tr>\n",
       "    <tr>\n",
       "      <th>8</th>\n",
       "      <td>127 min</td>\n",
       "      <td>6.4</td>\n",
       "      <td>DramaHistory</td>\n",
       "    </tr>\n",
       "    <tr>\n",
       "      <th>9</th>\n",
       "      <td>97 min</td>\n",
       "      <td>6.3</td>\n",
       "      <td>CrimeDrama</td>\n",
       "    </tr>\n",
       "    <tr>\n",
       "      <th>10</th>\n",
       "      <td>115 min</td>\n",
       "      <td>7.2</td>\n",
       "      <td>2010</td>\n",
       "    </tr>\n",
       "    <tr>\n",
       "      <th>11</th>\n",
       "      <td>99 min</td>\n",
       "      <td>6.4</td>\n",
       "      <td>ComedyCrime</td>\n",
       "    </tr>\n",
       "    <tr>\n",
       "      <th>12</th>\n",
       "      <td>88 min</td>\n",
       "      <td>5.2</td>\n",
       "      <td>2011</td>\n",
       "    </tr>\n",
       "    <tr>\n",
       "      <th>13</th>\n",
       "      <td>118 min</td>\n",
       "      <td>6.9</td>\n",
       "      <td>Sci-Fi</td>\n",
       "    </tr>\n",
       "    <tr>\n",
       "      <th>14</th>\n",
       "      <td>98 min</td>\n",
       "      <td>4.8</td>\n",
       "      <td>2000</td>\n",
       "    </tr>\n",
       "    <tr>\n",
       "      <th>15</th>\n",
       "      <td>134 min</td>\n",
       "      <td>6.8</td>\n",
       "      <td>Comedy</td>\n",
       "    </tr>\n",
       "    <tr>\n",
       "      <th>16</th>\n",
       "      <td>108 min</td>\n",
       "      <td>5.8</td>\n",
       "      <td>DramaHorrorMystery</td>\n",
       "    </tr>\n",
       "    <tr>\n",
       "      <th>17</th>\n",
       "      <td>120 min</td>\n",
       "      <td>6.4</td>\n",
       "      <td>DramaHorrorMystery</td>\n",
       "    </tr>\n",
       "    <tr>\n",
       "      <th>18</th>\n",
       "      <td>106 min</td>\n",
       "      <td>6.4</td>\n",
       "      <td>ComedyCrime</td>\n",
       "    </tr>\n",
       "    <tr>\n",
       "      <th>19</th>\n",
       "      <td>132 min</td>\n",
       "      <td>7.9</td>\n",
       "      <td>Sci-Fi</td>\n",
       "    </tr>\n",
       "    <tr>\n",
       "      <th>20</th>\n",
       "      <td>90 min</td>\n",
       "      <td>6.3</td>\n",
       "      <td>Drama</td>\n",
       "    </tr>\n",
       "    <tr>\n",
       "      <th>21</th>\n",
       "      <td>157 min</td>\n",
       "      <td>7.8</td>\n",
       "      <td>Sci-Fi</td>\n",
       "    </tr>\n",
       "    <tr>\n",
       "      <th>22</th>\n",
       "      <td>124 min</td>\n",
       "      <td>7.3</td>\n",
       "      <td>DramaHorrorMystery</td>\n",
       "    </tr>\n",
       "    <tr>\n",
       "      <th>23</th>\n",
       "      <td>132 min</td>\n",
       "      <td>9.0</td>\n",
       "      <td>CrimeDrama</td>\n",
       "    </tr>\n",
       "    <tr>\n",
       "      <th>24</th>\n",
       "      <td>164 min</td>\n",
       "      <td>6.9</td>\n",
       "      <td>DramaHorrorMystery</td>\n",
       "    </tr>\n",
       "    <tr>\n",
       "      <th>25</th>\n",
       "      <td>113 min</td>\n",
       "      <td>6.8</td>\n",
       "      <td>Fantasy</td>\n",
       "    </tr>\n",
       "    <tr>\n",
       "      <th>26</th>\n",
       "      <td>108 min</td>\n",
       "      <td>8.1</td>\n",
       "      <td>CrimeDramaThriller</td>\n",
       "    </tr>\n",
       "    <tr>\n",
       "      <th>27</th>\n",
       "      <td>102 min</td>\n",
       "      <td>7.2</td>\n",
       "      <td>CrimeDramaThriller</td>\n",
       "    </tr>\n",
       "    <tr>\n",
       "      <th>28</th>\n",
       "      <td>112 min</td>\n",
       "      <td>7.4</td>\n",
       "      <td>ComedyFantasy</td>\n",
       "    </tr>\n",
       "    <tr>\n",
       "      <th>29</th>\n",
       "      <td>106 min</td>\n",
       "      <td>5.2</td>\n",
       "      <td>Comedy</td>\n",
       "    </tr>\n",
       "    <tr>\n",
       "      <th>30</th>\n",
       "      <td>134 min</td>\n",
       "      <td>6.3</td>\n",
       "      <td>BiographyCrimeDrama</td>\n",
       "    </tr>\n",
       "    <tr>\n",
       "      <th>31</th>\n",
       "      <td>98 min</td>\n",
       "      <td>5.5</td>\n",
       "      <td>ComedyHorror</td>\n",
       "    </tr>\n",
       "    <tr>\n",
       "      <th>32</th>\n",
       "      <td>111 min</td>\n",
       "      <td>1.4</td>\n",
       "      <td>DramaHorrorSci-Fi</td>\n",
       "    </tr>\n",
       "    <tr>\n",
       "      <th>33</th>\n",
       "      <td>85 min</td>\n",
       "      <td>6.6</td>\n",
       "      <td>Horror</td>\n",
       "    </tr>\n",
       "    <tr>\n",
       "      <th>34</th>\n",
       "      <td>125 min</td>\n",
       "      <td>7.2</td>\n",
       "      <td>Drama</td>\n",
       "    </tr>\n",
       "    <tr>\n",
       "      <th>35</th>\n",
       "      <td>94 min</td>\n",
       "      <td>5.4</td>\n",
       "      <td>AnimationComedy</td>\n",
       "    </tr>\n",
       "    <tr>\n",
       "      <th>36</th>\n",
       "      <td>130 min</td>\n",
       "      <td>5.8</td>\n",
       "      <td>ComedyCrime</td>\n",
       "    </tr>\n",
       "    <tr>\n",
       "      <th>37</th>\n",
       "      <td>111 min</td>\n",
       "      <td>6.4</td>\n",
       "      <td>HorrorMysteryThriller</td>\n",
       "    </tr>\n",
       "    <tr>\n",
       "      <th>38</th>\n",
       "      <td>107 min</td>\n",
       "      <td>6.2</td>\n",
       "      <td>CrimeHorrorMystery</td>\n",
       "    </tr>\n",
       "    <tr>\n",
       "      <th>39</th>\n",
       "      <td>93 min</td>\n",
       "      <td>6.2</td>\n",
       "      <td>DramaHorrorMystery</td>\n",
       "    </tr>\n",
       "    <tr>\n",
       "      <th>40</th>\n",
       "      <td>148 min</td>\n",
       "      <td>7.2</td>\n",
       "      <td>CrimeDramaHistory</td>\n",
       "    </tr>\n",
       "    <tr>\n",
       "      <th>41</th>\n",
       "      <td>130 min</td>\n",
       "      <td>1.8</td>\n",
       "      <td>Thriller</td>\n",
       "    </tr>\n",
       "    <tr>\n",
       "      <th>42</th>\n",
       "      <td>78 min</td>\n",
       "      <td>5.9</td>\n",
       "      <td>DramaFantasy</td>\n",
       "    </tr>\n",
       "    <tr>\n",
       "      <th>43</th>\n",
       "      <td>107 min</td>\n",
       "      <td>5.2</td>\n",
       "      <td>BiographyDramaRomance</td>\n",
       "    </tr>\n",
       "    <tr>\n",
       "      <th>44</th>\n",
       "      <td>99 min</td>\n",
       "      <td>NaN</td>\n",
       "      <td>HorrorMystery</td>\n",
       "    </tr>\n",
       "    <tr>\n",
       "      <th>45</th>\n",
       "      <td>86 min</td>\n",
       "      <td>NaN</td>\n",
       "      <td>AnimationComedy</td>\n",
       "    </tr>\n",
       "    <tr>\n",
       "      <th>46</th>\n",
       "      <td>91 min</td>\n",
       "      <td>NaN</td>\n",
       "      <td>CrimeHorror</td>\n",
       "    </tr>\n",
       "    <tr>\n",
       "      <th>47</th>\n",
       "      <td>143 min</td>\n",
       "      <td>NaN</td>\n",
       "      <td>DramaWestern</td>\n",
       "    </tr>\n",
       "    <tr>\n",
       "      <th>48</th>\n",
       "      <td>NaN</td>\n",
       "      <td>NaN</td>\n",
       "      <td>Animation</td>\n",
       "    </tr>\n",
       "    <tr>\n",
       "      <th>49</th>\n",
       "      <td>NaN</td>\n",
       "      <td>NaN</td>\n",
       "      <td>CrimeThriller</td>\n",
       "    </tr>\n",
       "    <tr>\n",
       "      <th>50</th>\n",
       "      <td>NaN</td>\n",
       "      <td>NaN</td>\n",
       "      <td>ThrillerWestern</td>\n",
       "    </tr>\n",
       "    <tr>\n",
       "      <th>51</th>\n",
       "      <td>NaN</td>\n",
       "      <td>NaN</td>\n",
       "      <td>HorrorMysteryThriller</td>\n",
       "    </tr>\n",
       "    <tr>\n",
       "      <th>52</th>\n",
       "      <td>NaN</td>\n",
       "      <td>NaN</td>\n",
       "      <td>Sci-Fi</td>\n",
       "    </tr>\n",
       "    <tr>\n",
       "      <th>53</th>\n",
       "      <td>NaN</td>\n",
       "      <td>NaN</td>\n",
       "      <td>HorrorThriller</td>\n",
       "    </tr>\n",
       "    <tr>\n",
       "      <th>54</th>\n",
       "      <td>NaN</td>\n",
       "      <td>NaN</td>\n",
       "      <td>Crime</td>\n",
       "    </tr>\n",
       "  </tbody>\n",
       "</table>\n",
       "</div>"
      ],
      "text/plain": [
       "    Runtime  Rating              Metascore\n",
       "0   155 min     8.2                  Drama\n",
       "1   157 min     6.9                  Drama\n",
       "2   163 min     7.5               Thriller\n",
       "3   105 min     5.7                   2009\n",
       "4   108 min     7.5         HorrorThriller\n",
       "5   116 min     7.6     ComedyDramaRomance\n",
       "6   152 min     7.7                   2008\n",
       "7   107 min     5.6     DramaHorrorMystery\n",
       "8   127 min     6.4           DramaHistory\n",
       "9    97 min     6.3             CrimeDrama\n",
       "10  115 min     7.2                   2010\n",
       "11   99 min     6.4            ComedyCrime\n",
       "12   88 min     5.2                   2011\n",
       "13  118 min     6.9                 Sci-Fi\n",
       "14   98 min     4.8                   2000\n",
       "15  134 min     6.8                 Comedy\n",
       "16  108 min     5.8     DramaHorrorMystery\n",
       "17  120 min     6.4     DramaHorrorMystery\n",
       "18  106 min     6.4            ComedyCrime\n",
       "19  132 min     7.9                 Sci-Fi\n",
       "20   90 min     6.3                  Drama\n",
       "21  157 min     7.8                 Sci-Fi\n",
       "22  124 min     7.3     DramaHorrorMystery\n",
       "23  132 min     9.0             CrimeDrama\n",
       "24  164 min     6.9     DramaHorrorMystery\n",
       "25  113 min     6.8                Fantasy\n",
       "26  108 min     8.1     CrimeDramaThriller\n",
       "27  102 min     7.2     CrimeDramaThriller\n",
       "28  112 min     7.4          ComedyFantasy\n",
       "29  106 min     5.2                 Comedy\n",
       "30  134 min     6.3    BiographyCrimeDrama\n",
       "31   98 min     5.5           ComedyHorror\n",
       "32  111 min     1.4      DramaHorrorSci-Fi\n",
       "33   85 min     6.6                 Horror\n",
       "34  125 min     7.2                  Drama\n",
       "35   94 min     5.4        AnimationComedy\n",
       "36  130 min     5.8            ComedyCrime\n",
       "37  111 min     6.4  HorrorMysteryThriller\n",
       "38  107 min     6.2     CrimeHorrorMystery\n",
       "39   93 min     6.2     DramaHorrorMystery\n",
       "40  148 min     7.2      CrimeDramaHistory\n",
       "41  130 min     1.8               Thriller\n",
       "42   78 min     5.9           DramaFantasy\n",
       "43  107 min     5.2  BiographyDramaRomance\n",
       "44   99 min     NaN          HorrorMystery\n",
       "45   86 min     NaN        AnimationComedy\n",
       "46   91 min     NaN            CrimeHorror\n",
       "47  143 min     NaN           DramaWestern\n",
       "48      NaN     NaN              Animation\n",
       "49      NaN     NaN          CrimeThriller\n",
       "50      NaN     NaN        ThrillerWestern\n",
       "51      NaN     NaN  HorrorMysteryThriller\n",
       "52      NaN     NaN                 Sci-Fi\n",
       "53      NaN     NaN         HorrorThriller\n",
       "54      NaN     NaN                  Crime"
      ]
     },
     "execution_count": 235,
     "metadata": {},
     "output_type": "execute_result"
    }
   ],
   "source": [
    "auto=pd.read_csv('products.csv')\n",
    "auto"
   ]
  }
 ],
 "metadata": {
  "interpreter": {
   "hash": "e7370f93d1d0cde622a1f8e1c04877d8463912d04d973331ad4851f04de6915a"
  },
  "kernelspec": {
   "display_name": "Python 2.7.18 64-bit",
   "name": "python3"
  },
  "language_info": {
   "codemirror_mode": {
    "name": "ipython",
    "version": 3
   },
   "file_extension": ".py",
   "mimetype": "text/x-python",
   "name": "python",
   "nbconvert_exporter": "python",
   "pygments_lexer": "ipython3",
   "version": "3.8.10"
  },
  "orig_nbformat": 4
 },
 "nbformat": 4,
 "nbformat_minor": 2
}
